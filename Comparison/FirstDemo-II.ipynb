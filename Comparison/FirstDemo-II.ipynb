{
 "cells": [
  {
   "cell_type": "code",
   "execution_count": 1,
   "id": "6uMIzjb_6izL",
   "metadata": {
    "executionInfo": {
     "elapsed": 484,
     "status": "ok",
     "timestamp": 1725434586702,
     "user": {
      "displayName": "Abhijeet Yadav",
      "userId": "09091241066672392377"
     },
     "user_tz": -330
    },
    "id": "6uMIzjb_6izL"
   },
   "outputs": [],
   "source": [
    "import os\n",
    "path_to_folder = r'C:\\Users\\abhij\\Desktop\\CV_Project\\EDA ChatBot'\n",
    "path_to_config = os.path.join(path_to_folder,'config.ini')\n",
    "os.chdir(path_to_folder)"
   ]
  },
  {
   "cell_type": "code",
   "execution_count": 2,
   "id": "0bb277d9-e6ae-452d-b04d-8da01de9c541",
   "metadata": {
    "executionInfo": {
     "elapsed": 3,
     "status": "ok",
     "timestamp": 1725434588384,
     "user": {
      "displayName": "Abhijeet Yadav",
      "userId": "09091241066672392377"
     },
     "user_tz": -330
    },
    "id": "0bb277d9-e6ae-452d-b04d-8da01de9c541"
   },
   "outputs": [],
   "source": [
    "import configparser\n",
    "import pandas as pd\n",
    "import math\n",
    "\n",
    "# To call LLMs\n",
    "from langchain_groq import ChatGroq\n",
    "\n",
    "# To call tools\n",
    "from langchain_experimental.tools import PythonAstREPLTool\n",
    "\n",
    "# To work with prompts\n",
    "from langchain.prompts import MessagesPlaceholder\n",
    "from langchain_core.prompts import ChatPromptTemplate\n",
    "\n",
    "# To pass the messages\n",
    "from langchain_core.messages import HumanMessage,SystemMessage,AIMessage\n"
   ]
  },
  {
   "cell_type": "code",
   "execution_count": 3,
   "id": "9659d200-bf4e-43cc-8f48-1e2bfb29ce09",
   "metadata": {
    "executionInfo": {
     "elapsed": 439,
     "status": "ok",
     "timestamp": 1725434596827,
     "user": {
      "displayName": "Abhijeet Yadav",
      "userId": "09091241066672392377"
     },
     "user_tz": -330
    },
    "id": "9659d200-bf4e-43cc-8f48-1e2bfb29ce09"
   },
   "outputs": [],
   "source": [
    "from conversation import run_conversation"
   ]
  },
  {
   "cell_type": "markdown",
   "id": "cff4f903-e3a4-4457-9d51-6bbd6c824195",
   "metadata": {
    "id": "cff4f903-e3a4-4457-9d51-6bbd6c824195"
   },
   "source": [
    "------------"
   ]
  },
  {
   "cell_type": "code",
   "execution_count": 4,
   "id": "07c600ca-dac3-49bb-88fd-5a123c1faa74",
   "metadata": {
    "executionInfo": {
     "elapsed": 410,
     "status": "ok",
     "timestamp": 1725434599793,
     "user": {
      "displayName": "Abhijeet Yadav",
      "userId": "09091241066672392377"
     },
     "user_tz": -330
    },
    "id": "07c600ca-dac3-49bb-88fd-5a123c1faa74"
   },
   "outputs": [],
   "source": [
    "from IPython.display import display, Markdown\n",
    "\n",
    "def display_markdown_output(output):\n",
    "    # Split the output into sections\n",
    "    sections = output.split('**')\n",
    "\n",
    "    markdown_text = \"\"\n",
    "\n",
    "    for i, section in enumerate(sections):\n",
    "        if i % 2 == 1:  # Odd sections are headers\n",
    "            markdown_text += f\"## {section}\\n\\n\"\n",
    "        else:  # Even sections are content\n",
    "            # Check if this section contains a Python script\n",
    "            if \"```\" in section:\n",
    "                parts = section.split(\"```\")\n",
    "                for j, part in enumerate(parts):\n",
    "                    if j % 2 == 1:  # Odd parts are code\n",
    "                        markdown_text += f\"```python\\n{part.strip()}\\n```\\n\\n\"\n",
    "                    else:  # Even parts are regular text\n",
    "                        markdown_text += part.strip() + \"\\n\\n\"\n",
    "            else:\n",
    "                markdown_text += section.strip() + \"\\n\\n\"\n",
    "\n",
    "    # Display the markdown\n",
    "    display(Markdown(markdown_text))"
   ]
  },
  {
   "cell_type": "code",
   "execution_count": 5,
   "id": "ed3e68f4-23f3-4002-ad6b-bd06a7b38a1e",
   "metadata": {
    "executionInfo": {
     "elapsed": 3,
     "status": "ok",
     "timestamp": 1725434600230,
     "user": {
      "displayName": "Abhijeet Yadav",
      "userId": "09091241066672392377"
     },
     "user_tz": -330
    },
    "id": "ed3e68f4-23f3-4002-ad6b-bd06a7b38a1e"
   },
   "outputs": [],
   "source": [
    "def show_all_the_information_generated_in_the_latest_conversation(total_information_bucket_v1):\n",
    "    for k,v in total_information_bucket_v1[-1].items():\n",
    "        if k!='information':\n",
    "            print(k.upper(),v,sep=' : - \\n',end='\\n\\n')\n",
    "            print(\"-\"*50)\n",
    "        elif k=='information':\n",
    "            print(k.upper() + \" : - \\n\")\n",
    "            for info_k,info_v in v.items():\n",
    "                print(\">>\"+info_k.upper(),info_v,sep=' : - \\n',end='\\n\\n')\n",
    "            print(\"-\"*50)"
   ]
  },
  {
   "cell_type": "markdown",
   "id": "02653406-8c90-4180-a99f-ad284eb2c954",
   "metadata": {
    "id": "02653406-8c90-4180-a99f-ad284eb2c954"
   },
   "source": [
    "------------"
   ]
  },
  {
   "cell_type": "markdown",
   "id": "64046135-762f-4241-bccf-afe992af727e",
   "metadata": {
    "id": "64046135-762f-4241-bccf-afe992af727e"
   },
   "source": [
    "### Step 1: Read the config file"
   ]
  },
  {
   "cell_type": "code",
   "execution_count": 6,
   "id": "447f92c1-9770-4e36-86d0-058da9afa942",
   "metadata": {
    "colab": {
     "base_uri": "https://localhost:8080/"
    },
    "executionInfo": {
     "elapsed": 434,
     "status": "ok",
     "timestamp": 1725434602069,
     "user": {
      "displayName": "Abhijeet Yadav",
      "userId": "09091241066672392377"
     },
     "user_tz": -330
    },
    "id": "447f92c1-9770-4e36-86d0-058da9afa942",
    "outputId": "2ddfd57d-3c68-4d1a-c495-423e4f0b12c8"
   },
   "outputs": [
    {
     "data": {
      "text/plain": [
       "['C:\\\\Users\\\\abhij\\\\Desktop\\\\CV_Project\\\\EDA ChatBot\\\\config.ini']"
      ]
     },
     "execution_count": 6,
     "metadata": {},
     "output_type": "execute_result"
    }
   ],
   "source": [
    "config = configparser.ConfigParser()\n",
    "config.read(path_to_config)\n"
   ]
  },
  {
   "cell_type": "markdown",
   "id": "f80203b6-385e-4c21-811e-35964782fae0",
   "metadata": {
    "id": "f80203b6-385e-4c21-811e-35964782fae0"
   },
   "source": [
    "### Step 2: Load multiple data file paths from the config"
   ]
  },
  {
   "cell_type": "code",
   "execution_count": 7,
   "id": "90653db3-579b-4e7e-8d27-2cade622cb74",
   "metadata": {
    "colab": {
     "base_uri": "https://localhost:8080/"
    },
    "executionInfo": {
     "elapsed": 440,
     "status": "ok",
     "timestamp": 1725434605736,
     "user": {
      "displayName": "Abhijeet Yadav",
      "userId": "09091241066672392377"
     },
     "user_tz": -330
    },
    "id": "90653db3-579b-4e7e-8d27-2cade622cb74",
    "outputId": "3693a768-2a37-49f1-de48-eb6647d2fb51"
   },
   "outputs": [
    {
     "name": "stdout",
     "output_type": "stream",
     "text": [
      "Loaded data1: C:\\Users\\abhij\\Desktop\\LangChain\\LLama-recipes\\Querying Pandas DataFrame\\titanic.csv\n"
     ]
    }
   ],
   "source": [
    "dataframes = {}\n",
    "for key in config['FILES']:\n",
    "    file_path = config['FILES'][key]\n",
    "    try:\n",
    "        dataframes[key] = pd.read_csv(file_path)\n",
    "        print(f\"Loaded {key}: {file_path}\")\n",
    "    except FileNotFoundError:\n",
    "        print(f\"Error: The file at {file_path} was not found.\")\n",
    "    except Exception as e:\n",
    "        print(f\"An error occurred while loading {file_path}: {e}\")"
   ]
  },
  {
   "cell_type": "markdown",
   "id": "5a537649-1fd0-4de9-b47b-15702933714d",
   "metadata": {
    "id": "5a537649-1fd0-4de9-b47b-15702933714d"
   },
   "source": [
    "### Step 3: Set up the LLM instance using the config"
   ]
  },
  {
   "cell_type": "code",
   "execution_count": 8,
   "id": "99051cef-553d-4b5a-8a71-7cb85c361aef",
   "metadata": {
    "executionInfo": {
     "elapsed": 584,
     "status": "ok",
     "timestamp": 1725434608603,
     "user": {
      "displayName": "Abhijeet Yadav",
      "userId": "09091241066672392377"
     },
     "user_tz": -330
    },
    "id": "99051cef-553d-4b5a-8a71-7cb85c361aef"
   },
   "outputs": [],
   "source": [
    "\n",
    "llm = ChatGroq(\n",
    "    model=config['LLM']['model'],\n",
    "    api_key=config['LLM']['api_key'],\n",
    "    temperature=float(config['LLM']['temperature'])\n",
    ")"
   ]
  },
  {
   "cell_type": "markdown",
   "id": "9f06e250-1a7e-4b56-83f0-37c4a9b20cb5",
   "metadata": {
    "id": "9f06e250-1a7e-4b56-83f0-37c4a9b20cb5"
   },
   "source": [
    "### Step 4: Read extra information file specified in the config, which stores the instruction that are to be passed to LLM"
   ]
  },
  {
   "cell_type": "code",
   "execution_count": 9,
   "id": "4f959025-e38c-490c-bd9a-7f5006a3fea5",
   "metadata": {
    "executionInfo": {
     "elapsed": 3,
     "status": "ok",
     "timestamp": 1725434609148,
     "user": {
      "displayName": "Abhijeet Yadav",
      "userId": "09091241066672392377"
     },
     "user_tz": -330
    },
    "id": "4f959025-e38c-490c-bd9a-7f5006a3fea5"
   },
   "outputs": [],
   "source": [
    "\n",
    "extra_info_file_path = config['PROMPT']['extra_info_file']\n",
    "try:\n",
    "    with open(extra_info_file_path, 'r', encoding='utf-8') as file:\n",
    "        extra_info = file.read()\n",
    "except FileNotFoundError:\n",
    "    print(f\"Error: The file at {extra_info_file_path} was not found.\")\n",
    "    extra_info = \"\"\n",
    "except Exception as e:\n",
    "    print(f\"An error occurred while reading {extra_info_file_path}: {e}\")\n",
    "    extra_info = \"\"\n"
   ]
  },
  {
   "cell_type": "markdown",
   "id": "602f5d46-b4ea-463e-b33d-88598d4b4aec",
   "metadata": {
    "id": "602f5d46-b4ea-463e-b33d-88598d4b4aec"
   },
   "source": [
    "### Step 5: Adding the description of each dataframe to the instruction file"
   ]
  },
  {
   "cell_type": "code",
   "execution_count": 10,
   "id": "f6fd3f1c-5300-4842-9087-ce665e79e897",
   "metadata": {
    "executionInfo": {
     "elapsed": 5,
     "status": "ok",
     "timestamp": 1725434609667,
     "user": {
      "displayName": "Abhijeet Yadav",
      "userId": "09091241066672392377"
     },
     "user_tz": -330
    },
    "id": "f6fd3f1c-5300-4842-9087-ce665e79e897"
   },
   "outputs": [],
   "source": [
    "instructions=\"\"\n",
    "\n",
    "# Append the extra information from the config file\n",
    "instructions += f\"\\n{extra_info}\"\n",
    "\n",
    "instructions += \"\\n\"+\"-\"*50+'\\n'\n",
    "instructions +=\"THIS IS THE INFORMATION REGARDING THE INPUT DATA : -\\n\"\n",
    "instructions += \"-\"*50+'\\n'\n",
    "\n",
    "for i,name in enumerate(dataframes):\n",
    "    instructions += f\"`{name}` = {config['DESCRIPTION'][name]}\\n\\n\"\n",
    "\n",
    "\n",
    "\n",
    "\n",
    "system = config['PROMPT']['system']\n",
    "\n",
    "# Combine the system and dynamically generated instructions with the appended info\n",
    "system_and_instructions = f\"{system}\\n\\n{instructions}\""
   ]
  },
  {
   "cell_type": "code",
   "execution_count": 11,
   "id": "f47c596d-fea2-42c5-8a1f-7edd6464f848",
   "metadata": {},
   "outputs": [
    {
     "data": {
      "text/markdown": [
       "-------------------------------------------------------------------------\n",
       "THESE ARE INSTRUCTIONS, WHICH YOU SHOULD ALWAYS FOLLOW & DO NOT CREATE ANY OF YOUR OWN : - \n",
       "-------------------------------------------------------------------------\n",
       "\n",
       "1. Think carefully, try to make a plan first about your approach to the input question \n",
       "and then only proceed.\n",
       "\n",
       "2. Don't always try to opt for coding, try to answer conceptually first.\n",
       "\n",
       "3. While generating the Script, provide necessary comments and FOLLOW THE PATTERN GIVEN BELOW:\n",
       "\n",
       "## Script:\n",
       "\n",
       "\n",
       "\n",
       "```python\n",
       "print(df.columns)\n",
       "```\n",
       "\n",
       "4. In case, making any assumption. Print those assumption statements.\n",
       "\n",
       "5. Whatever questions are to be asked, will be related to the dataframe provided in the description.\n",
       "\n",
       "6. Don't use list comprehension, unless told so.\n",
       "\n",
       "7. While performing calculations always print results to the console, in order to keep track of the steps. If possible try to generate the plot that is relevant to the question.\n",
       "\n",
       "8. Don't make any inplace changes to data, unless asked to do so.\n",
       "\n",
       "-------------------------\n",
       "OUTPUT EXAMPLE : -\n",
       "-------------------------\n",
       "Question: \"Name of the columns\"\n",
       "\n",
       "Example Output:\n",
       "Based on the provided information, it seems like we are working with a pandas DataFrame in Python. To answer a question asked by a human, I can use the column names of the DataFrame.\n",
       "\n",
       "Here's a step-by-step instruction to generate an answer:\n",
       "\n",
       "## Instruction:\n",
       "\n",
       "- Step 1: Provide the DataFrame\n",
       "    - Please provide the pandas DataFrame that contains the data related to the question asked by the human.\n",
       "\n",
       "- Step 2: Get the column names\n",
       "    - Run the script to get the column names of the provided DataFrame. This will output a list of column names.\n",
       "\n",
       "- Step 3: Identify relevant columns\n",
       "    - Based on the question asked by the human, identify the relevant column(s) from the output in Step 2 that can be used to answer the question.\n",
       "\n",
       "- Step 4: Extract relevant data\n",
       "    - Extract the data from the identified column(s) in Step 3.\n",
       "\n",
       "- Step 5: Generate an answer\n",
       "    - Use the extracted data to generate an answer to the question asked by the human.\n",
       "\n",
       "## Script:\n",
       "\n",
       "\n",
       "\n",
       "```python\n",
       "print(df.columns)\n",
       "```\n",
       "\n",
       "\n",
       "\n",
       "## Data needed:\n",
       "\n",
       "* A pandas DataFrame containing the relevant data\n",
       "* The question asked by the human\n",
       "\n",
       "Please provide the DataFrame and the question, and I'll be happy to help generate an answer!\n",
       "\n",
       "\n",
       "\n",
       "--------------------------------------------------\n",
       "THIS IS THE INFORMATION REGARDING THE INPUT DATA : -\n",
       "--------------------------------------------------\n",
       "`data1` = This is the variable, storing the input data as a dataframe. Use this to answer questions which requires information on data.\n",
       "\n"
      ],
      "text/plain": [
       "<IPython.core.display.Markdown object>"
      ]
     },
     "metadata": {},
     "output_type": "display_data"
    }
   ],
   "source": [
    "display_markdown_output(instructions)"
   ]
  },
  {
   "cell_type": "markdown",
   "id": "1261b991-1644-4f2b-8d4b-e7f5c228ac85",
   "metadata": {
    "id": "1261b991-1644-4f2b-8d4b-e7f5c228ac85"
   },
   "source": [
    "---------------"
   ]
  },
  {
   "cell_type": "markdown",
   "id": "dd7e826b-3361-46d2-8af9-c3fecd49f260",
   "metadata": {
    "id": "dd7e826b-3361-46d2-8af9-c3fecd49f260"
   },
   "source": [
    "### Chainging the components together (prompt and llm)"
   ]
  },
  {
   "cell_type": "code",
   "execution_count": 12,
   "id": "80fb35a6-66f3-43eb-8c30-99d7d7dceec4",
   "metadata": {
    "executionInfo": {
     "elapsed": 4,
     "status": "ok",
     "timestamp": 1725434609667,
     "user": {
      "displayName": "Abhijeet Yadav",
      "userId": "09091241066672392377"
     },
     "user_tz": -330
    },
    "id": "80fb35a6-66f3-43eb-8c30-99d7d7dceec4"
   },
   "outputs": [],
   "source": [
    "prompt = ChatPromptTemplate.from_messages([\n",
    "                    (\"system\",system_and_instructions),\n",
    "                    MessagesPlaceholder(\"chat_history\"),\n",
    "                    (\"human\",\"{question}\")\n",
    "                    ])\n"
   ]
  },
  {
   "cell_type": "code",
   "execution_count": 13,
   "id": "3e9cd708-9c7d-4b1f-bc8c-90365856a2e6",
   "metadata": {
    "executionInfo": {
     "elapsed": 3,
     "status": "ok",
     "timestamp": 1725434610273,
     "user": {
      "displayName": "Abhijeet Yadav",
      "userId": "09091241066672392377"
     },
     "user_tz": -330
    },
    "id": "3e9cd708-9c7d-4b1f-bc8c-90365856a2e6"
   },
   "outputs": [],
   "source": [
    "# Model to be used for chat\n",
    "model_without_tool = llm\n",
    "\n",
    "# Creating chain 1\n",
    "chain = prompt | model_without_tool"
   ]
  },
  {
   "cell_type": "code",
   "execution_count": 14,
   "id": "34d2dea5-55f5-4abd-b098-a03b93a41c25",
   "metadata": {
    "executionInfo": {
     "elapsed": 3,
     "status": "ok",
     "timestamp": 1725434610274,
     "user": {
      "displayName": "Abhijeet Yadav",
      "userId": "09091241066672392377"
     },
     "user_tz": -330
    },
    "id": "34d2dea5-55f5-4abd-b098-a03b93a41c25"
   },
   "outputs": [],
   "source": [
    "# Uncomment this to clear the chat history..!\n",
    "total_information_bucket=[]\n",
    "chat_history_bucket = []\n",
    "\n",
    "params = {\"chain\":chain,\n",
    "         \"llm\":model_without_tool,\n",
    "         \"total_information_bucket\":total_information_bucket,\n",
    "         \"chat_history_bucket\":chat_history_bucket,\n",
    "         \"local_vars\":dataframes}\n"
   ]
  },
  {
   "cell_type": "code",
   "execution_count": 15,
   "id": "f67b932a-ba87-4468-8379-0fb480e15175",
   "metadata": {
    "executionInfo": {
     "elapsed": 2,
     "status": "ok",
     "timestamp": 1725434610874,
     "user": {
      "displayName": "Abhijeet Yadav",
      "userId": "09091241066672392377"
     },
     "user_tz": -330
    },
    "id": "f67b932a-ba87-4468-8379-0fb480e15175"
   },
   "outputs": [],
   "source": [
    "def pass_question(params,question):\n",
    "    params[\"question\"]=question\n",
    "    return params"
   ]
  },
  {
   "cell_type": "markdown",
   "id": "5861eb40-4f06-4022-a5e1-ddb7ff0c143d",
   "metadata": {
    "id": "5861eb40-4f06-4022-a5e1-ddb7ff0c143d"
   },
   "source": [
    "----\n",
    "## Conversation Begins !"
   ]
  },
  {
   "cell_type": "code",
   "execution_count": 16,
   "id": "4c164e64-0198-4f46-bb6d-c8d1be4479a3",
   "metadata": {
    "executionInfo": {
     "elapsed": 4,
     "status": "ok",
     "timestamp": 1725434611401,
     "user": {
      "displayName": "Abhijeet Yadav",
      "userId": "09091241066672392377"
     },
     "user_tz": -330
    },
    "id": "4c164e64-0198-4f46-bb6d-c8d1be4479a3"
   },
   "outputs": [
    {
     "data": {
      "text/markdown": [
       "Hi, I'm Abhijeet. How are you?\n",
       "\n"
      ],
      "text/plain": [
       "<IPython.core.display.Markdown object>"
      ]
     },
     "metadata": {},
     "output_type": "display_data"
    },
    {
     "data": {
      "text/markdown": [
       "------------------------------\n",
       "\n"
      ],
      "text/plain": [
       "<IPython.core.display.Markdown object>"
      ]
     },
     "metadata": {},
     "output_type": "display_data"
    },
    {
     "data": {
      "text/markdown": [
       "Hi Abhijeet! I'm doing great, thanks for asking! I'm a data scientist, and I'm here to help you with any data analysis tasks you might have. I'll be working with the input data stored in the `data1` variable, which is a pandas DataFrame. Please feel free to ask me any questions or provide any tasks you'd like me to assist you with!\n",
       "\n"
      ],
      "text/plain": [
       "<IPython.core.display.Markdown object>"
      ]
     },
     "metadata": {},
     "output_type": "display_data"
    }
   ],
   "source": [
    "question = \"Hi, I'm Abhijeet. How are you?\"\n",
    "params = pass_question(params,question)\n",
    "total_information_bucket_v1,chat_history_bucket_v1 = run_conversation(**params)\n",
    "display_markdown_output(chat_history_bucket_v1[-2].content)\n",
    "display_markdown_output(\"-\"*30)\n",
    "display_markdown_output(chat_history_bucket_v1[-1].content)"
   ]
  },
  {
   "cell_type": "code",
   "execution_count": 17,
   "id": "32cdd2b5-e26c-426f-92b0-b1de2537020a",
   "metadata": {
    "colab": {
     "base_uri": "https://localhost:8080/"
    },
    "executionInfo": {
     "elapsed": 2150,
     "status": "ok",
     "timestamp": 1725434615828,
     "user": {
      "displayName": "Abhijeet Yadav",
      "userId": "09091241066672392377"
     },
     "user_tz": -330
    },
    "id": "32cdd2b5-e26c-426f-92b0-b1de2537020a",
    "outputId": "edc69998-8851-45c6-f90e-cb65ca621e41"
   },
   "outputs": [
    {
     "name": "stdout",
     "output_type": "stream",
     "text": [
      "Script Executed successfully..!\n"
     ]
    },
    {
     "data": {
      "text/markdown": [
       "What's the shape of the data, and provide overview about the columns?\n",
       "\n"
      ],
      "text/plain": [
       "<IPython.core.display.Markdown object>"
      ]
     },
     "metadata": {},
     "output_type": "display_data"
    },
    {
     "data": {
      "text/markdown": [
       "------------------------------\n",
       "\n"
      ],
      "text/plain": [
       "<IPython.core.display.Markdown object>"
      ]
     },
     "metadata": {},
     "output_type": "display_data"
    },
    {
     "data": {
      "text/markdown": [
       "Based on the provided information, it seems like we are working with a pandas DataFrame in Python. To answer the question about the shape of the data and provide an overview of the columns, I can use the output provided.\n",
       "\n",
       "Here's a step-by-step instruction to generate an answer:\n",
       "\n",
       "## Instruction:\n",
       "\n",
       "- Step 1: Understand the shape of the data\n",
       "    - The shape of the data is (891, 12), which means we have 891 rows (or samples) and 12 columns (or features).\n",
       "\n",
       "- Step 2: Get an overview of the columns\n",
       "    - The output provides an overview of the columns, including the column names, non-null count, and data types.\n",
       "\n",
       "## Script:\n",
       "\n",
       "\n",
       "\n",
       "```python\n",
       "print(data1.shape)\n",
       "print(data1.info())\n",
       "```\n",
       "\n",
       "\n",
       "\n",
       "## Output:\n",
       "\n",
       "The output of the script will be:\n",
       "\n",
       "```python\n",
       "(891, 12)\n",
       "<class 'pandas.core.frame.DataFrame'>\n",
       "RangeIndex: 891 entries, 0 to 890\n",
       "Data columns (total 12 columns):\n",
       " #   Column       Non-Null Count  Dtype  \n",
       "---  ------       --------------  -----  \n",
       " 0   PassengerId  891 non-null    int64  \n",
       " 1   Survived     891 non-null    int64  \n",
       " 2   Pclass       891 non-null    int64  \n",
       " 3   Name         891 non-null    object \n",
       " 4   Sex          891 non-null    object \n",
       " 5   Age          714 non-null    float64\n",
       " 6   SibSp        891 non-null    int64  \n",
       " 7   Parch        891 non-null    int64  \n",
       " 8   Ticket       891 non-null    object \n",
       " 9   Fare         891 non-null    float64\n",
       " 10  Cabin        204 non-null    object \n",
       " 11  Embarked     889 non-null    object \n",
       "dtypes: float64(2), int64(5), object(5)\n",
       "memory usage: 83.7+ KB\n",
       "Index(['PassengerId', 'Survived', 'Pclass', 'Name', 'Sex', 'Age', 'SibSp',\n",
       "       'Parch', 'Ticket', 'Fare', 'Cabin', 'Embarked'],\n",
       "      dtype='object')\n",
       "```\n",
       "\n",
       "\n",
       "\n",
       "## Data needed:\n",
       "\n",
       "* The pandas DataFrame `data1` containing the relevant data.\n",
       "\n",
       "Please let me know if you have any further questions or if there's anything else I can help you with!\n",
       "\n"
      ],
      "text/plain": [
       "<IPython.core.display.Markdown object>"
      ]
     },
     "metadata": {},
     "output_type": "display_data"
    }
   ],
   "source": [
    "question = \"What's the shape of the data, and provide overview about the columns?\"\n",
    "params = pass_question(params,question)\n",
    "total_information_bucket_v1,chat_history_bucket_v1 = run_conversation(**params)\n",
    "display_markdown_output(chat_history_bucket_v1[-2].content)\n",
    "display_markdown_output(\"-\"*30)\n",
    "display_markdown_output(chat_history_bucket_v1[-1].content)"
   ]
  },
  {
   "cell_type": "code",
   "execution_count": 18,
   "id": "443794d2-58d5-463d-a998-387efa8e59bb",
   "metadata": {
    "colab": {
     "base_uri": "https://localhost:8080/"
    },
    "executionInfo": {
     "elapsed": 3211,
     "status": "ok",
     "timestamp": 1725434619034,
     "user": {
      "displayName": "Abhijeet Yadav",
      "userId": "09091241066672392377"
     },
     "user_tz": -330
    },
    "id": "443794d2-58d5-463d-a998-387efa8e59bb",
    "outputId": "b4d40f57-5d97-426b-cc52-886139e12f4b"
   },
   "outputs": [
    {
     "name": "stdout",
     "output_type": "stream",
     "text": [
      "Script Executed successfully..!\n"
     ]
    },
    {
     "data": {
      "text/markdown": [
       "What's the survival rate for different categories ?\n",
       "\n"
      ],
      "text/plain": [
       "<IPython.core.display.Markdown object>"
      ]
     },
     "metadata": {},
     "output_type": "display_data"
    },
    {
     "data": {
      "text/markdown": [
       "------------------------------\n",
       "\n"
      ],
      "text/plain": [
       "<IPython.core.display.Markdown object>"
      ]
     },
     "metadata": {},
     "output_type": "display_data"
    },
    {
     "data": {
      "text/markdown": [
       "Based on the provided information, it seems like we are working with a pandas DataFrame in Python. To answer the question about the survival rate for different categories, I can use the output provided.\n",
       "\n",
       "Here's a step-by-step instruction to generate an answer:\n",
       "\n",
       "## Instruction:\n",
       "\n",
       "- Step 1: Understand the survival rate by Pclass\n",
       "    - The survival rate for Pclass 1 is 0.629630, for Pclass 2 is 0.472826, and for Pclass 3 is 0.242363.\n",
       "\n",
       "- Step 2: Understand the survival rate by Sex\n",
       "    - The survival rate for females is 0.742038, and for males is 0.188908.\n",
       "\n",
       "- Step 3: Understand the survival rate by Embarked\n",
       "    - The survival rate for Embarked 'C' is 0.553571, for Embarked 'Q' is 0.389610, and for Embarked 'S' is 0.336957.\n",
       "\n",
       "## Script:\n",
       "\n",
       "\n",
       "\n",
       "```python\n",
       "# Survival rate by Pclass\n",
       "print(data1.groupby('Pclass')['Survived'].mean())\n",
       "\n",
       "# Survival rate by Sex\n",
       "print(data1.groupby('Sex')['Survived'].mean())\n",
       "\n",
       "# Survival rate by Embarked\n",
       "print(data1.groupby('Embarked')['Survived'].mean())\n",
       "```\n",
       "\n",
       "\n",
       "\n",
       "## Output:\n",
       "\n",
       "The output of the script will be:\n",
       "\n",
       "```python\n",
       "Survival rate by Pclass:\n",
       "Pclass\n",
       "1    0.629630\n",
       "2    0.472826\n",
       "3    0.242363\n",
       "Name: Survived, dtype: float64\n",
       "\n",
       "Survival rate by Sex:\n",
       "Sex\n",
       "female    0.742038\n",
       "male      0.188908\n",
       "Name: Survived, dtype: float64\n",
       "\n",
       "Survival rate by Embarked:\n",
       "Embarked\n",
       "C    0.553571\n",
       "Q    0.389610\n",
       "S    0.336957\n",
       "Name: Survived, dtype: float64\n",
       "```\n",
       "\n",
       "\n",
       "\n",
       "## Data needed:\n",
       "\n",
       "* The pandas DataFrame `data1` containing the relevant data.\n",
       "\n",
       "Please let me know if you have any further questions or if there's anything else I can help you with!\n",
       "\n"
      ],
      "text/plain": [
       "<IPython.core.display.Markdown object>"
      ]
     },
     "metadata": {},
     "output_type": "display_data"
    }
   ],
   "source": [
    "question = \"What's the survival rate for different categories ?\"\n",
    "params = pass_question(params,question)\n",
    "total_information_bucket_v1,chat_history_bucket_v1 = run_conversation(**params)\n",
    "display_markdown_output(chat_history_bucket_v1[-2].content)\n",
    "display_markdown_output(\"-\"*30)\n",
    "display_markdown_output(chat_history_bucket_v1[-1].content)"
   ]
  },
  {
   "cell_type": "code",
   "execution_count": 19,
   "id": "6a1caf4b-05a7-4235-94c4-5c743923a913",
   "metadata": {
    "colab": {
     "base_uri": "https://localhost:8080/"
    },
    "executionInfo": {
     "elapsed": 29889,
     "status": "ok",
     "timestamp": 1725434648918,
     "user": {
      "displayName": "Abhijeet Yadav",
      "userId": "09091241066672392377"
     },
     "user_tz": -330
    },
    "id": "6a1caf4b-05a7-4235-94c4-5c743923a913",
    "outputId": "666de88b-9019-4c33-dfc7-cafc4d244097"
   },
   "outputs": [
    {
     "name": "stdout",
     "output_type": "stream",
     "text": [
      "Script Executed successfully..!\n"
     ]
    },
    {
     "data": {
      "text/markdown": [
       "Please identify the numeric column in the dataframe, and tell if they are right skewed or left skewed.\n",
       "\n"
      ],
      "text/plain": [
       "<IPython.core.display.Markdown object>"
      ]
     },
     "metadata": {},
     "output_type": "display_data"
    },
    {
     "data": {
      "text/markdown": [
       "------------------------------\n",
       "\n"
      ],
      "text/plain": [
       "<IPython.core.display.Markdown object>"
      ]
     },
     "metadata": {},
     "output_type": "display_data"
    },
    {
     "data": {
      "text/markdown": [
       "Based on the provided information, I can identify the numeric columns in the dataframe and determine if they are right-skewed or left-skewed.\n",
       "\n",
       "## Numeric columns:\n",
       "\n",
       "The numeric columns in the dataframe are:\n",
       "\n",
       "* PassengerId\n",
       "* Survived\n",
       "* Pclass\n",
       "* Age\n",
       "* SibSp\n",
       "* Parch\n",
       "* Fare\n",
       "\n",
       "## Skewness of each numeric column:\n",
       "\n",
       "* PassengerId: Normally distributed with a skewness of 0.00 (not skewed)\n",
       "* Survived: Right-skewed with a skewness of 0.48\n",
       "* Pclass: Left-skewed with a skewness of -0.63\n",
       "* Age: Right-skewed with a skewness of 0.39\n",
       "* SibSp: Right-skewed with a skewness of 3.70\n",
       "* Parch: Right-skewed with a skewness of 2.75\n",
       "* Fare: Right-skewed with a skewness of 4.79\n",
       "\n",
       "## Script:\n",
       "\n",
       "\n",
       "\n",
       "```python\n",
       "from scipy import stats\n",
       "\n",
       "print(\"PassengerId skewness:\", stats.skew(data1['PassengerId']))\n",
       "print(\"Survived skewness:\", stats.skew(data1['Survived']))\n",
       "print(\"Pclass skewness:\", stats.skew(data1['Pclass']))\n",
       "print(\"Age skewness:\", stats.skew(data1['Age']))\n",
       "print(\"SibSp skewness:\", stats.skew(data1['SibSp']))\n",
       "print(\"Parch skewness:\", stats.skew(data1['Parch']))\n",
       "print(\"Fare skewness:\", stats.skew(data1['Fare']))\n",
       "```\n",
       "\n",
       "\n",
       "\n",
       "## Output:\n",
       "\n",
       "The output of the script will be:\n",
       "\n",
       "```python\n",
       "PassengerId skewness: 0.00\n",
       "Survived skewness: 0.48\n",
       "Pclass skewness: -0.63\n",
       "Age skewness: 0.39\n",
       "SibSp skewness: 3.70\n",
       "Parch skewness: 2.75\n",
       "Fare skewness: 4.79\n",
       "```\n",
       "\n",
       "\n",
       "\n",
       "## Data needed:\n",
       "\n",
       "* The pandas DataFrame `data1` containing the relevant data.\n",
       "\n",
       "Please let me know if you have any further questions or if there's anything else I can help you with!\n",
       "\n"
      ],
      "text/plain": [
       "<IPython.core.display.Markdown object>"
      ]
     },
     "metadata": {},
     "output_type": "display_data"
    }
   ],
   "source": [
    "question = \"Please identify the numeric column in the dataframe, and tell if they are right skewed or left skewed.\"\n",
    "params = pass_question(params,question)\n",
    "total_information_bucket_v1,chat_history_bucket_v1 = run_conversation(**params)\n",
    "display_markdown_output(chat_history_bucket_v1[-2].content)\n",
    "display_markdown_output(\"-\"*30)\n",
    "display_markdown_output(chat_history_bucket_v1[-1].content)"
   ]
  },
  {
   "cell_type": "code",
   "execution_count": 20,
   "id": "f810dc61-d83f-4706-b93d-706223df7559",
   "metadata": {
    "colab": {
     "base_uri": "https://localhost:8080/"
    },
    "executionInfo": {
     "elapsed": 54846,
     "status": "ok",
     "timestamp": 1725434703757,
     "user": {
      "displayName": "Abhijeet Yadav",
      "userId": "09091241066672392377"
     },
     "user_tz": -330
    },
    "id": "f810dc61-d83f-4706-b93d-706223df7559",
    "outputId": "e447a0ab-b6ab-4ac8-c5e8-0075eab4966e"
   },
   "outputs": [
    {
     "name": "stdout",
     "output_type": "stream",
     "text": [
      "Script Executed successfully..!\n"
     ]
    },
    {
     "data": {
      "text/markdown": [
       "Does sex and PClass have any effect on Survival of a passenger?\n",
       "\n"
      ],
      "text/plain": [
       "<IPython.core.display.Markdown object>"
      ]
     },
     "metadata": {},
     "output_type": "display_data"
    },
    {
     "data": {
      "text/markdown": [
       "------------------------------\n",
       "\n"
      ],
      "text/plain": [
       "<IPython.core.display.Markdown object>"
      ]
     },
     "metadata": {},
     "output_type": "display_data"
    },
    {
     "data": {
      "text/markdown": [
       "Based on the provided information, it seems like we are working with a pandas DataFrame in Python. To answer the question about the effect of Sex and Pclass on the Survival of a passenger, I can use the output provided.\n",
       "\n",
       "## Instruction:\n",
       "\n",
       "- Step 1: Understand the survival rate by Sex\n",
       "    - The survival rate for females is 0.742038, and for males is 0.188908.\n",
       "\n",
       "- Step 2: Understand the survival rate by Pclass\n",
       "    - The survival rate for Pclass 1 is 0.629630, for Pclass 2 is 0.472826, and for Pclass 3 is 0.242363.\n",
       "\n",
       "- Step 3: Understand the survival rate by Sex and Pclass\n",
       "    - The survival rate for female passengers in Pclass 1 is 0.968085, in Pclass 2 is 0.921053, and in Pclass 3 is 0.500000.\n",
       "    - The survival rate for male passengers in Pclass 1 is 0.368852, in Pclass 2 is 0.157407, and in Pclass 3 is 0.135447.\n",
       "\n",
       "## Conclusion:\n",
       "\n",
       "Based on the output, it is clear that both Sex and Pclass have a significant effect on the Survival of a passenger.\n",
       "\n",
       "* Female passengers have a higher survival rate compared to male passengers, regardless of their Pclass.\n",
       "* Passengers in Pclass 1 have a higher survival rate compared to those in Pclass 2 and 3, regardless of their Sex.\n",
       "* The survival rate is highest for female passengers in Pclass 1, and lowest for male passengers in Pclass 3.\n",
       "\n",
       "## Script:\n",
       "\n",
       "\n",
       "\n",
       "```python\n",
       "# Survival rate by Sex\n",
       "print(data1.groupby('Sex')['Survived'].mean())\n",
       "\n",
       "# Survival rate by Pclass\n",
       "print(data1.groupby('Pclass')['Survived'].mean())\n",
       "\n",
       "# Survival rate by Sex and Pclass\n",
       "print(data1.groupby(['Sex', 'Pclass'])['Survived'].mean())\n",
       "```\n",
       "\n",
       "\n",
       "\n",
       "## Output:\n",
       "\n",
       "The output of the script will be:\n",
       "\n",
       "```python\n",
       "Survived\n",
       "Sex             \n",
       "female  0.742038\n",
       "male    0.188908\n",
       "\n",
       "Survived\n",
       "Pclass          \n",
       "1       0.629630\n",
       "2       0.472826\n",
       "3       0.242363\n",
       "\n",
       "               Survived\n",
       "Sex    Pclass          \n",
       "female 1       0.968085\n",
       "       2       0.921053\n",
       "       3       0.500000\n",
       "male   1       0.368852\n",
       "       2       0.157407\n",
       "       3       0.135447\n",
       "```\n",
       "\n",
       "\n",
       "\n",
       "## Data needed:\n",
       "\n",
       "* The pandas DataFrame `data1` containing the relevant data.\n",
       "\n",
       "Please let me know if you have any further questions or if there's anything else I can help you with!\n",
       "\n"
      ],
      "text/plain": [
       "<IPython.core.display.Markdown object>"
      ]
     },
     "metadata": {},
     "output_type": "display_data"
    }
   ],
   "source": [
    "question =\"Does sex and PClass have any effect on Survival of a passenger?\"\n",
    "params = pass_question(params,question)\n",
    "total_information_bucket_v1,chat_history_bucket_v1 = run_conversation(**params)\n",
    "display_markdown_output(chat_history_bucket_v1[-2].content)\n",
    "display_markdown_output(\"-\"*30)\n",
    "display_markdown_output(chat_history_bucket_v1[-1].content)"
   ]
  },
  {
   "cell_type": "code",
   "execution_count": 21,
   "id": "e96e1555-5baa-4de7-b12c-62a24e1a99b5",
   "metadata": {
    "colab": {
     "base_uri": "https://localhost:8080/",
     "height": 699
    },
    "executionInfo": {
     "elapsed": 59852,
     "status": "ok",
     "timestamp": 1725434763603,
     "user": {
      "displayName": "Abhijeet Yadav",
      "userId": "09091241066672392377"
     },
     "user_tz": -330
    },
    "id": "e96e1555-5baa-4de7-b12c-62a24e1a99b5",
    "outputId": "8dfb507f-2a4f-4c1e-a4a7-0505a7acac74"
   },
   "outputs": [
    {
     "name": "stdout",
     "output_type": "stream",
     "text": [
      "Script Executed successfully..!\n"
     ]
    },
    {
     "data": {
      "text/markdown": [
       "Identify the pairs of closely correlated features.\n",
       "\n"
      ],
      "text/plain": [
       "<IPython.core.display.Markdown object>"
      ]
     },
     "metadata": {},
     "output_type": "display_data"
    },
    {
     "data": {
      "text/markdown": [
       "------------------------------\n",
       "\n"
      ],
      "text/plain": [
       "<IPython.core.display.Markdown object>"
      ]
     },
     "metadata": {},
     "output_type": "display_data"
    },
    {
     "data": {
      "text/markdown": [
       "Based on the provided correlation matrix, I can identify the pairs of closely correlated features.\n",
       "\n",
       "## Closely correlated features:\n",
       "\n",
       "* Pclass and Fare: The correlation coefficient is -0.549500, which indicates a moderate negative correlation between Pclass and Fare. This means that as Pclass increases, Fare tends to decrease.\n",
       "\n",
       "* SibSp and Parch: The correlation coefficient is 0.414838, which indicates a moderate positive correlation between SibSp and Parch. This means that as SibSp increases, Parch tends to increase as well.\n",
       "\n",
       "* Age and Pclass: The correlation coefficient is -0.369226, which indicates a moderate negative correlation between Age and Pclass. This means that as Age increases, Pclass tends to decrease.\n",
       "\n",
       "## Script:\n",
       "\n",
       "\n",
       "\n",
       "```python\n",
       "import pandas as pd\n",
       "import seaborn as sns\n",
       "import matplotlib.pyplot as plt\n",
       "\n",
       "# Calculate the correlation matrix\n",
       "corr_matrix = data1[['Pclass', 'Age', 'SibSp', 'Parch', 'Fare']].corr()\n",
       "\n",
       "# Print the correlation matrix\n",
       "print(corr_matrix)\n",
       "\n",
       "# Visualize the correlation matrix using a heatmap\n",
       "plt.figure(figsize=(10, 8))\n",
       "sns.heatmap(corr_matrix, annot=True, cmap='coolwarm', vmin=-1, vmax=1)\n",
       "plt.title('Correlation Matrix')\n",
       "plt.show()\n",
       "```\n",
       "\n",
       "\n",
       "\n",
       "## Output:\n",
       "\n",
       "The output of the script will be the correlation matrix and a heatmap visualization of the correlation matrix.\n",
       "\n",
       "## Data needed:\n",
       "\n",
       "* The pandas DataFrame `data1` containing the relevant data.\n",
       "\n",
       "Please let me know if you have any further questions or if there's anything else I can help you with!\n",
       "\n"
      ],
      "text/plain": [
       "<IPython.core.display.Markdown object>"
      ]
     },
     "metadata": {},
     "output_type": "display_data"
    }
   ],
   "source": [
    "question =\"Identify the pairs of closely correlated features.\"\n",
    "params = pass_question(params,question)\n",
    "total_information_bucket_v1,chat_history_bucket_v1 = run_conversation(**params)\n",
    "display_markdown_output(chat_history_bucket_v1[-2].content)\n",
    "display_markdown_output(\"-\"*30)\n",
    "display_markdown_output(chat_history_bucket_v1[-1].content)"
   ]
  },
  {
   "cell_type": "code",
   "execution_count": 22,
   "id": "c5623b08-cea6-4ac7-868a-1ac1714c5340",
   "metadata": {
    "colab": {
     "base_uri": "https://localhost:8080/"
    },
    "executionInfo": {
     "elapsed": 49338,
     "status": "ok",
     "timestamp": 1725434812936,
     "user": {
      "displayName": "Abhijeet Yadav",
      "userId": "09091241066672392377"
     },
     "user_tz": -330
    },
    "id": "c5623b08-cea6-4ac7-868a-1ac1714c5340",
    "outputId": "ef6025ce-75c3-4d92-e373-552399887cf2"
   },
   "outputs": [
    {
     "name": "stdout",
     "output_type": "stream",
     "text": [
      "Script Executed successfully..!\n"
     ]
    },
    {
     "data": {
      "text/markdown": [
       "What's the most common last name for the Passengers?\n",
       "\n"
      ],
      "text/plain": [
       "<IPython.core.display.Markdown object>"
      ]
     },
     "metadata": {},
     "output_type": "display_data"
    },
    {
     "data": {
      "text/markdown": [
       "------------------------------\n",
       "\n"
      ],
      "text/plain": [
       "<IPython.core.display.Markdown object>"
      ]
     },
     "metadata": {},
     "output_type": "display_data"
    },
    {
     "data": {
      "text/markdown": [
       "Based on the provided information, I can answer the question about the most common last name for the passengers.\n",
       "\n",
       "## Most common last name:\n",
       "\n",
       "The most common last name for the passengers is \"John\".\n",
       "\n",
       "## Script:\n",
       "\n",
       "\n",
       "\n",
       "```python\n",
       "import pandas as pd\n",
       "\n",
       "# Extract the last names from the 'Name' column\n",
       "last_names = data1['Name'].apply(lambda x: x.split()[-1])\n",
       "\n",
       "# Get the most common last name\n",
       "most_common_last_name = last_names.mode()[0]\n",
       "\n",
       "print(\"The most common last name is:\", most_common_last_name)\n",
       "```\n",
       "\n",
       "\n",
       "\n",
       "## Output:\n",
       "\n",
       "The output of the script will be:\n",
       "\n",
       "```python\n",
       "The most common last name is: John\n",
       "```\n",
       "\n",
       "\n",
       "\n",
       "## Data needed:\n",
       "\n",
       "* The pandas DataFrame `data1` containing the relevant data.\n",
       "\n",
       "Please let me know if you have any further questions or if there's anything else I can help you with!\n",
       "\n"
      ],
      "text/plain": [
       "<IPython.core.display.Markdown object>"
      ]
     },
     "metadata": {},
     "output_type": "display_data"
    }
   ],
   "source": [
    "question =\"What's the most common last name for the Passengers?\"\n",
    "params = pass_question(params,question)\n",
    "total_information_bucket_v1,chat_history_bucket_v1 = run_conversation(**params)\n",
    "display_markdown_output(chat_history_bucket_v1[-2].content)\n",
    "display_markdown_output(\"-\"*30)\n",
    "display_markdown_output(chat_history_bucket_v1[-1].content)"
   ]
  },
  {
   "cell_type": "code",
   "execution_count": 23,
   "id": "99eb4295-2b5b-40fb-8c04-1fd3a0c7e219",
   "metadata": {
    "colab": {
     "base_uri": "https://localhost:8080/",
     "height": 581
    },
    "executionInfo": {
     "elapsed": 81334,
     "status": "ok",
     "timestamp": 1725434894264,
     "user": {
      "displayName": "Abhijeet Yadav",
      "userId": "09091241066672392377"
     },
     "user_tz": -330
    },
    "id": "99eb4295-2b5b-40fb-8c04-1fd3a0c7e219",
    "outputId": "1778f493-925c-491e-cb31-711d74aa1966",
    "scrolled": true
   },
   "outputs": [
    {
     "name": "stderr",
     "output_type": "stream",
     "text": [
      "<string>:21: UserWarning: FigureCanvasAgg is non-interactive, and thus cannot be shown\n"
     ]
    },
    {
     "name": "stdout",
     "output_type": "stream",
     "text": [
      "Script Executed successfully..!\n"
     ]
    },
    {
     "data": {
      "image/png": "[encoded data removed]",
      "text/plain": [
       "<Figure size 1500x1000 with 1 Axes>"
      ]
     },
     "metadata": {},
     "output_type": "display_data"
    },
    {
     "data": {
      "text/markdown": [
       "Analyze the survival rate of passengers based on their class and gender, then create a new feature that combines age groups with these factors, and finally visualize the results.\n",
       "\n"
      ],
      "text/plain": [
       "<IPython.core.display.Markdown object>"
      ]
     },
     "metadata": {},
     "output_type": "display_data"
    },
    {
     "data": {
      "text/markdown": [
       "------------------------------\n",
       "\n"
      ],
      "text/plain": [
       "<IPython.core.display.Markdown object>"
      ]
     },
     "metadata": {},
     "output_type": "display_data"
    },
    {
     "data": {
      "text/markdown": [
       "Based on the provided information, I can analyze the survival rate of passengers based on their class and gender, and create a new feature that combines age groups with these factors.\n",
       "\n",
       "## Analysis:\n",
       "\n",
       "The survival rate of passengers varies significantly based on their class and gender. Female passengers in the first class have the highest survival rate, with 97.3% of them surviving. Male passengers in the third class have the lowest survival rate, with only 12.7% of them surviving.\n",
       "\n",
       "## New Feature:\n",
       "\n",
       "The new feature, `Age_Group_Class_Gender`, combines the age groups with the class and gender of the passengers. This feature provides a more detailed analysis of the survival rate based on these factors.\n",
       "\n",
       "## Visualization:\n",
       "\n",
       "To visualize the results, I can create a bar chart to compare the survival rates of passengers based on their age group, class, and gender.\n",
       "\n",
       "## Script:\n",
       "\n",
       "\n",
       "\n",
       "```python\n",
       "import matplotlib.pyplot as plt\n",
       "\n",
       "# Create a bar chart to compare the survival rates\n",
       "plt.figure(figsize=(10, 6))\n",
       "plt.bar(Age_Group_Class_Gender.index, Age_Group_Class_Gender.values)\n",
       "plt.xlabel('Age Group, Class, and Gender')\n",
       "plt.ylabel('Survival Rate')\n",
       "plt.title('Survival Rate by Age Group, Class, and Gender')\n",
       "plt.show()\n",
       "```\n",
       "\n",
       "\n",
       "\n",
       "## Output:\n",
       "\n",
       "The output of the script will be a bar chart that compares the survival rates of passengers based on their age group, class, and gender.\n",
       "\n",
       "## Data needed:\n",
       "\n",
       "* The pandas Series `Age_Group_Class_Gender` containing the survival rates of passengers based on their age group, class, and gender.\n",
       "\n",
       "Please let me know if you have any further questions or if there's anything else I can help you with!\n",
       "\n"
      ],
      "text/plain": [
       "<IPython.core.display.Markdown object>"
      ]
     },
     "metadata": {},
     "output_type": "display_data"
    }
   ],
   "source": [
    "question = \"Analyze the survival rate of passengers based on their class and gender, then create a new feature that combines age groups with these factors, and finally visualize the results.\"\n",
    "params = pass_question(params,question)\n",
    "total_information_bucket_v1,chat_history_bucket_v1 = run_conversation(**params)\n",
    "display_markdown_output(chat_history_bucket_v1[-2].content)\n",
    "display_markdown_output(\"-\"*30)\n",
    "display_markdown_output(chat_history_bucket_v1[-1].content)"
   ]
  },
  {
   "cell_type": "markdown",
   "id": "45cd1b6d-4cd5-4016-aa4f-e2f51c8c0159",
   "metadata": {
    "id": "45cd1b6d-4cd5-4016-aa4f-e2f51c8c0159"
   },
   "source": [
    "-------------"
   ]
  },
  {
   "cell_type": "code",
   "execution_count": 24,
   "id": "2f0eb58b-1599-4624-9ae5-6796c9b75849",
   "metadata": {
    "executionInfo": {
     "elapsed": 9,
     "status": "ok",
     "timestamp": 1725434894266,
     "user": {
      "displayName": "Abhijeet Yadav",
      "userId": "09091241066672392377"
     },
     "user_tz": -330
    },
    "id": "2f0eb58b-1599-4624-9ae5-6796c9b75849"
   },
   "outputs": [
    {
     "data": {
      "text/markdown": [
       "Just to check, if you remember the information or not. What was the shape of the input data provided?\n",
       "\n"
      ],
      "text/plain": [
       "<IPython.core.display.Markdown object>"
      ]
     },
     "metadata": {},
     "output_type": "display_data"
    },
    {
     "data": {
      "text/markdown": [
       "------------------------------\n",
       "\n"
      ],
      "text/plain": [
       "<IPython.core.display.Markdown object>"
      ]
     },
     "metadata": {},
     "output_type": "display_data"
    },
    {
     "data": {
      "text/markdown": [
       "I remember! The shape of the input data provided was (891, 12), which means there were 891 rows (or samples) and 12 columns (or features).\n",
       "\n"
      ],
      "text/plain": [
       "<IPython.core.display.Markdown object>"
      ]
     },
     "metadata": {},
     "output_type": "display_data"
    }
   ],
   "source": [
    "question = \"Just to check, if you remember the information or not. What was the shape of the input data provided?\"\n",
    "params = pass_question(params,question)\n",
    "total_information_bucket_v1,chat_history_bucket_v1 = run_conversation(**params)\n",
    "display_markdown_output(chat_history_bucket_v1[-2].content)\n",
    "display_markdown_output(\"-\"*30)\n",
    "display_markdown_output(chat_history_bucket_v1[-1].content)"
   ]
  },
  {
   "cell_type": "code",
   "execution_count": null,
   "id": "64417b00-9817-4352-bc82-01fdd45f9b5f",
   "metadata": {},
   "outputs": [],
   "source": []
  },
  {
   "cell_type": "markdown",
   "id": "2611bdc4-838f-40e1-b287-94b2f4ee837a",
   "metadata": {},
   "source": [
    "------------------------"
   ]
  },
  {
   "cell_type": "code",
   "execution_count": null,
   "id": "fea32db3-09b3-438c-a32d-578102cb526f",
   "metadata": {},
   "outputs": [],
   "source": []
  }
 ],
 "metadata": {
  "colab": {
   "provenance": []
  },
  "kernelspec": {
   "display_name": "Python (langchain_env)",
   "language": "python",
   "name": "langchain_env"
  },
  "language_info": {
   "codemirror_mode": {
    "name": "ipython",
    "version": 3
   },
   "file_extension": ".py",
   "mimetype": "text/x-python",
   "name": "python",
   "nbconvert_exporter": "python",
   "pygments_lexer": "ipython3",
   "version": "3.10.6"
  }
 },
 "nbformat": 4,
 "nbformat_minor": 5
}
